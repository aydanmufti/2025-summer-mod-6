{
 "cells": [
  {
   "cell_type": "code",
   "execution_count": 1,
   "id": "9bdf8422",
   "metadata": {},
   "outputs": [],
   "source": [
    "import pandas as pd\n",
    "import numpy as np\n",
    "from sklearn.neighbors import NearestNeighbors\n",
    "import matplotlib.pyplot as plt"
   ]
  },
  {
   "cell_type": "code",
   "execution_count": 2,
   "id": "9d96c519",
   "metadata": {},
   "outputs": [
    {
     "name": "stdout",
     "output_type": "stream",
     "text": [
      "Dataset Info:\n",
      "Shape: (1000, 4)\n",
      "Columns: ['Unnamed: 0', 'Z', 'X', 'Y']\n",
      "\n",
      "First few rows:\n",
      "   Unnamed: 0         Z  X         Y\n",
      "0           0  0.548814  0 -0.823220\n",
      "1           1  0.715189  1  0.842405\n",
      "2           2  0.602763  1  0.898618\n",
      "3           3  0.544883  0 -0.817325\n",
      "4           4  0.423655  0 -0.635482\n"
     ]
    }
   ],
   "source": [
    "# Load the data\n",
    "df = pd.read_csv('homework_6.1.csv')\n",
    "\n",
    "# Display basic information about the dataset\n",
    "print(\"Dataset Info:\")\n",
    "print(f\"Shape: {df.shape}\")\n",
    "print(f\"Columns: {df.columns.tolist()}\")\n",
    "print(f\"\\nFirst few rows:\")\n",
    "print(df.head())"
   ]
  },
  {
   "cell_type": "code",
   "execution_count": 3,
   "id": "d5b516b0",
   "metadata": {},
   "outputs": [
    {
     "name": "stdout",
     "output_type": "stream",
     "text": [
      "\n",
      "Treatment distribution:\n",
      "X\n",
      "0    509\n",
      "1    491\n",
      "Name: count, dtype: int64\n",
      "\n",
      "Treated group size: 491\n",
      "Untreated group size: 509\n"
     ]
    }
   ],
   "source": [
    "# Check treatment distribution\n",
    "print(f\"\\nTreatment distribution:\")\n",
    "print(df['X'].value_counts().sort_index())\n",
    "\n",
    "# Separate treated and untreated groups\n",
    "treated = df[df['X'] == 1].copy()\n",
    "untreated = df[df['X'] == 0].copy()\n",
    "\n",
    "print(f\"\\nTreated group size: {len(treated)}\")\n",
    "print(f\"Untreated group size: {len(untreated)}\")"
   ]
  },
  {
   "cell_type": "markdown",
   "id": "297d7024",
   "metadata": {},
   "source": [
    "# 1. Average Treatment Effect (ATE)\n",
    "# Match each observation to its nearest neighbor in the opposite group based on confounder Z\n"
   ]
  },
  {
   "cell_type": "code",
   "execution_count": 5,
   "id": "c8bd2e0f",
   "metadata": {},
   "outputs": [
    {
     "name": "stdout",
     "output_type": "stream",
     "text": [
      "\n",
      "============================================================\n",
      "1. AVERAGE TREATMENT EFFECT (ATE)\n",
      "============================================================\n",
      "Average Treatment Effect (ATE): 1.695270\n",
      "  - Based on 491 treated observations and 509 untreated observations\n"
     ]
    }
   ],
   "source": [
    "print(\"\\n\" + \"=\"*60)\n",
    "print(\"1. AVERAGE TREATMENT EFFECT (ATE)\")\n",
    "print(\"=\"*60)\n",
    "\n",
    "# For ATE: match each treated to nearest untreated, and each untreated to nearest treated\n",
    "all_effects = []\n",
    "\n",
    "\n",
    "# Set up nearest neighbors for both groups using numpy arrays to avoid warnings\n",
    "nn_untreated = NearestNeighbors(n_neighbors=1, metric='euclidean')\n",
    "nn_untreated.fit(untreated[['Z']].values)  # Use .values to get numpy array\n",
    "\n",
    "nn_treated = NearestNeighbors(n_neighbors=1, metric='euclidean')\n",
    "nn_treated.fit(treated[['Z']].values)  # Use .values to get numpy array\n",
    "\n",
    "# Match treated to untreated (ATT effects)\n",
    "treated_effects = []\n",
    "for idx, treated_row in treated.iterrows():\n",
    "    # Find nearest untreated neighbor\n",
    "    distances, indices = nn_untreated.kneighbors([[treated_row['Z']]])\n",
    "    nearest_untreated_idx = untreated.iloc[indices[0][0]]\n",
    "    \n",
    "    # Treatment effect = Y_treated - Y_untreated_counterfactual\n",
    "    effect = treated_row['Y'] - nearest_untreated_idx['Y']\n",
    "    treated_effects.append(effect)\n",
    "    all_effects.append(effect)\n",
    "\n",
    "# Match untreated to treated (ATU effects)\n",
    "untreated_effects = []\n",
    "for idx, untreated_row in untreated.iterrows():\n",
    "    # Find nearest treated neighbor\n",
    "    distances, indices = nn_treated.kneighbors([[untreated_row['Z']]])\n",
    "    nearest_treated_idx = treated.iloc[indices[0][0]]\n",
    "    \n",
    "    # Treatment effect = Y_treated_counterfactual - Y_untreated\n",
    "    effect = nearest_treated_idx['Y'] - untreated_row['Y']\n",
    "    untreated_effects.append(effect)\n",
    "    all_effects.append(effect)\n",
    "\n",
    "ate = np.mean(all_effects)\n",
    "print(f\"Average Treatment Effect (ATE): {ate:.6f}\")\n",
    "print(f\"  - Based on {len(treated_effects)} treated observations and {len(untreated_effects)} untreated observations\")\n"
   ]
  },
  {
   "cell_type": "code",
   "execution_count": 6,
   "id": "6c1f96f0",
   "metadata": {},
   "outputs": [
    {
     "name": "stdout",
     "output_type": "stream",
     "text": [
      "\n",
      "============================================================\n",
      "2. AVERAGE TREATMENT EFFECT ON THE TREATED (ATT)\n",
      "============================================================\n",
      "Average Treatment Effect on the Treated (ATT): 1.846409\n"
     ]
    }
   ],
   "source": [
    "# 2. Average Treatment Effect on the Treated (ATT)\n",
    "print(\"\\n\" + \"=\"*60)\n",
    "print(\"2. AVERAGE TREATMENT EFFECT ON THE TREATED (ATT)\")\n",
    "print(\"=\"*60)\n",
    "\n",
    "att = np.mean(treated_effects)\n",
    "print(f\"Average Treatment Effect on the Treated (ATT): {att:.6f}\")"
   ]
  },
  {
   "cell_type": "code",
   "execution_count": 7,
   "id": "062dfaa2",
   "metadata": {},
   "outputs": [
    {
     "name": "stdout",
     "output_type": "stream",
     "text": [
      "\n",
      "============================================================\n",
      "3. AVERAGE TREATMENT Effect ON THE UNTREATED (ATU)\n",
      "============================================================\n",
      "Average Treatment Effect on the Untreated (ATU): 1.549477\n"
     ]
    }
   ],
   "source": [
    "# 3. Average Treatment Effect on the Untreated (ATU)\n",
    "print(\"\\n\" + \"=\"*60)\n",
    "print(\"3. AVERAGE TREATMENT Effect ON THE UNTREATED (ATU)\")\n",
    "print(\"=\"*60)\n",
    "\n",
    "atu = np.mean(untreated_effects)\n",
    "print(f\"Average Treatment Effect on the Untreated (ATU): {atu:.6f}\")"
   ]
  },
  {
   "cell_type": "code",
   "execution_count": 8,
   "id": "17baa628",
   "metadata": {},
   "outputs": [
    {
     "name": "stdout",
     "output_type": "stream",
     "text": [
      "\n",
      "============================================================\n",
      "4. MARGINAL TREATMENT EFFECT (MTE)\n",
      "============================================================\n",
      "Marginal Treatment Effect (MTE): 2.172470\n",
      "MTE comes from untreated observation 298:\n",
      "  Untreated: Z=0.9729, Y=-1.4594\n",
      "  Counterfactual: Z=0.9738, Y=0.7131\n"
     ]
    }
   ],
   "source": [
    "# 4. Marginal Treatment Effect (MTE)\n",
    "print(\"\\n\" + \"=\"*60)\n",
    "print(\"4. MARGINAL TREATMENT EFFECT (MTE)\")\n",
    "print(\"=\"*60)\n",
    "\n",
    "# MTE is the maximum treatment effect across all untreated items\n",
    "# For each untreated item, find its counterfactual (nearest treated) and compute effect\n",
    "mte_effects = []\n",
    "mte_details = []\n",
    "\n",
    "for idx, untreated_row in untreated.iterrows():\n",
    "    # Find nearest treated neighbor\n",
    "    distances, indices = nn_treated.kneighbors([[untreated_row['Z']]])\n",
    "    nearest_treated_idx = treated.iloc[indices[0][0]]\n",
    "    \n",
    "    # Treatment effect = Y_treated_counterfactual - Y_untreated\n",
    "    effect = nearest_treated_idx['Y'] - untreated_row['Y']\n",
    "    mte_effects.append(effect)\n",
    "    mte_details.append({\n",
    "        'untreated_idx': idx,\n",
    "        'untreated_Z': untreated_row['Z'],\n",
    "        'untreated_Y': untreated_row['Y'],\n",
    "        'treated_counterfactual_Z': nearest_treated_idx['Z'],\n",
    "        'treated_counterfactual_Y': nearest_treated_idx['Y'],\n",
    "        'effect': effect\n",
    "    })\n",
    "\n",
    "mte = np.max(mte_effects)\n",
    "max_effect_idx = np.argmax(mte_effects)\n",
    "max_effect_details = mte_details[max_effect_idx]\n",
    "\n",
    "print(f\"Marginal Treatment Effect (MTE): {mte:.6f}\")\n",
    "print(f\"MTE comes from untreated observation {max_effect_details['untreated_idx']}:\")\n",
    "print(f\"  Untreated: Z={max_effect_details['untreated_Z']:.4f}, Y={max_effect_details['untreated_Y']:.4f}\")\n",
    "print(f\"  Counterfactual: Z={max_effect_details['treated_counterfactual_Z']:.4f}, Y={max_effect_details['treated_counterfactual_Y']:.4f}\")\n"
   ]
  },
  {
   "cell_type": "code",
   "execution_count": 9,
   "id": "c1db50a9",
   "metadata": {},
   "outputs": [
    {
     "name": "stdout",
     "output_type": "stream",
     "text": [
      "\n",
      "============================================================\n",
      "SUMMARY OF RESULTS\n",
      "============================================================\n",
      "Average Treatment Effect (ATE):              1.695270\n",
      "Average Treatment Effect on Treated (ATT):   1.846409\n",
      "Average Treatment Effect on Untreated (ATU): 1.549477\n",
      "Marginal Treatment Effect (MTE):             2.172470\n"
     ]
    }
   ],
   "source": [
    "# Summary of results\n",
    "print(\"\\n\" + \"=\"*60)\n",
    "print(\"SUMMARY OF RESULTS\")\n",
    "print(\"=\"*60)\n",
    "print(f\"Average Treatment Effect (ATE):              {ate:.6f}\")\n",
    "print(f\"Average Treatment Effect on Treated (ATT):   {att:.6f}\")\n",
    "print(f\"Average Treatment Effect on Untreated (ATU): {atu:.6f}\")\n",
    "print(f\"Marginal Treatment Effect (MTE):             {mte:.6f}\")\n"
   ]
  }
 ],
 "metadata": {
  "kernelspec": {
   "display_name": "Python 3",
   "language": "python",
   "name": "python3"
  },
  "language_info": {
   "codemirror_mode": {
    "name": "ipython",
    "version": 3
   },
   "file_extension": ".py",
   "mimetype": "text/x-python",
   "name": "python",
   "nbconvert_exporter": "python",
   "pygments_lexer": "ipython3",
   "version": "3.12.1"
  }
 },
 "nbformat": 4,
 "nbformat_minor": 5
}
